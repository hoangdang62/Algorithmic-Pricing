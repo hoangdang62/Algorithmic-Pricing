{
 "cells": [
  {
   "cell_type": "markdown",
   "id": "a4688825",
   "metadata": {
    "colab_type": "text",
    "id": "view-in-github"
   },
   "source": [
    "<a href=\"https://colab.research.google.com/github/ORIE5355/project_competition_public/blob/main/run_gym_headtohead.ipynb\" target=\"_parent\"><img src=\"https://colab.research.google.com/assets/colab-badge.svg\" alt=\"Open In Colab\"/></a>"
   ]
  },
  {
   "cell_type": "code",
   "execution_count": 1,
   "id": "1e30a1e2",
   "metadata": {
    "ExecuteTime": {
     "end_time": "2021-08-07T01:43:26.798549Z",
     "start_time": "2021-08-07T01:43:26.615639Z"
    },
    "id": "1e30a1e2"
   },
   "outputs": [],
   "source": [
    "import numpy as np \n",
    "import matplotlib.pyplot as plt\n",
    "import time\n",
    "from IPython import display"
   ]
  },
  {
   "cell_type": "code",
   "execution_count": 2,
   "id": "c19f063f",
   "metadata": {},
   "outputs": [],
   "source": [
    "%load_ext autoreload\n",
    "%autoreload 2"
   ]
  },
  {
   "cell_type": "code",
   "execution_count": 3,
   "id": "1491d1af",
   "metadata": {
    "ExecuteTime": {
     "end_time": "2021-08-07T00:54:11.885238Z",
     "start_time": "2021-08-07T00:54:11.655533Z"
    },
    "id": "1491d1af"
   },
   "outputs": [],
   "source": [
    "import make_env"
   ]
  },
  {
   "cell_type": "code",
   "execution_count": 20,
   "id": "9d7889c4",
   "metadata": {
    "ExecuteTime": {
     "end_time": "2021-08-07T00:54:12.319787Z",
     "start_time": "2021-08-07T00:54:12.215172Z"
    },
    "id": "9d7889c4"
   },
   "outputs": [],
   "source": [
    "env, agents = make_env.make_env_agents(agentnames = ['thethreemusketeers_svc', 'thethreemusketeers_logistic']\n",
    ", first_file = 'data/competitionsample_3', second_file='data/competitionsample_2', third_file='data/competitionsample_1')\n",
    "\n",
    "# you can replace the agentnames to match whatever agentfiles you create. \n",
    "# you can use the same agentnames for both agents"
   ]
  },
  {
   "cell_type": "code",
   "execution_count": 21,
   "id": "050da6eb",
   "metadata": {
    "ExecuteTime": {
     "end_time": "2021-08-07T00:54:13.449610Z",
     "start_time": "2021-08-07T00:54:13.329182Z"
    },
    "id": "050da6eb"
   },
   "outputs": [],
   "source": [
    "T = 500"
   ]
  },
  {
   "cell_type": "code",
   "execution_count": 22,
   "id": "fc21ca5a",
   "metadata": {
    "ExecuteTime": {
     "end_time": "2021-08-07T00:54:31.959674Z",
     "start_time": "2021-08-07T00:54:31.682972Z"
    },
    "colab": {
     "base_uri": "https://localhost:8080/",
     "height": 332
    },
    "id": "fc21ca5a",
    "outputId": "5fbf1364-5a0b-47f2-a083-653b0a0c4a96"
   },
   "outputs": [
    {
     "data": {
      "image/png": "[encoded data removed]",
      "text/plain": [
       "<Figure size 432x288 with 1 Axes>"
      ]
     },
     "metadata": {},
     "output_type": "display_data"
    },
    {
     "name": "stdout",
     "output_type": "stream",
     "text": [
      "last (item bought, agent bought from, prices):  (1, 1, [array([1.1, 1. ]), array([1.1, 1. ])])\n",
      "current_profit per agent:  [167.13098909870837, 173.17544704988984]\n",
      "Cumulative buyer utility: 519.8419297636218\n"
     ]
    }
   ],
   "source": [
    "env.reset()\n",
    "customer_covariates, customer_embedding, sale, profits = env.get_current_state_customer_to_send_agents()\n",
    "\n",
    "fig, ax = plt.subplots(figsize=(20, 10))\n",
    "for t in range(0, T):\n",
    "    actions = [agent.action((customer_covariates, customer_embedding, sale, profits)) for agent in agents]\n",
    "    customer_covariates, customer_embedding, sale, profits = env.step(actions)\n",
    "    newplot = env.render(True)\n",
    "    if newplot:\n",
    "      display.clear_output(wait=True)\n",
    "      display.display(plt.gcf())\n",
    "    print('last (item bought, agent bought from, prices): ', sale)\n",
    "    print('current_profit per agent: ', profits)\n",
    "plt.close()\n",
    "print(\"Cumulative buyer utility: {}\".format(env.cumulative_buyer_utility))"
   ]
  },
  {
   "cell_type": "code",
   "execution_count": null,
   "id": "98926bf7",
   "metadata": {},
   "outputs": [],
   "source": []
  }
 ],
 "metadata": {
  "colab": {
   "include_colab_link": true,
   "name": "run_gym_headtohead_localcomputer.ipynb",
   "provenance": []
  },
  "kernelspec": {
   "display_name": "Python 3 (ipykernel)",
   "language": "python",
   "name": "python3"
  },
  "language_info": {
   "codemirror_mode": {
    "name": "ipython",
    "version": 3
   },
   "file_extension": ".py",
   "mimetype": "text/x-python",
   "name": "python",
   "nbconvert_exporter": "python",
   "pygments_lexer": "ipython3",
   "version": "3.8.12"
  },
  "varInspector": {
   "cols": {
    "lenName": 16,
    "lenType": 16,
    "lenVar": 40
   },
   "kernels_config": {
    "python": {
     "delete_cmd_postfix": "",
     "delete_cmd_prefix": "del ",
     "library": "var_list.py",
     "varRefreshCmd": "print(var_dic_list())"
    },
    "r": {
     "delete_cmd_postfix": ") ",
     "delete_cmd_prefix": "rm(",
     "library": "var_list.r",
     "varRefreshCmd": "cat(var_dic_list()) "
    }
   },
   "types_to_exclude": [
    "module",
    "function",
    "builtin_function_or_method",
    "instance",
    "_Feature"
   ],
   "window_display": false
  }
 },
 "nbformat": 4,
 "nbformat_minor": 5
}
