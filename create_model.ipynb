{
 "cells": [
  {
   "cell_type": "code",
   "execution_count": 2,
   "metadata": {},
   "outputs": [],
   "source": [
    "import pandas as pd\n",
    "import pickle\n",
    "from sklearn.neighbors import KNeighborsRegressor\n",
    "from sklearn.linear_model import LogisticRegression\n",
    "from sklearn.ensemble import RandomForestClassifier\n",
    "import numpy as np\n",
    "def openpickle(filename):\n",
    "    with open(filename, \"rb\") as readfile:\n",
    "        loaded = pickle.load(readfile)\n",
    "    return loaded"
   ]
  },
  {
   "cell_type": "code",
   "execution_count": 5,
   "metadata": {},
   "outputs": [],
   "source": [
    "train_pricing_decisions = pd.read_csv('train_prices_decisions.csv')\n",
    "train_covariate = openpickle('train_covariate')\n",
    "train_noisy_embedding = openpickle('train_noisy_embedding')\n",
    "test_covariate = openpickle('test_covariate')\n",
    "test_noisy_embedding = openpickle('test_noisy_embedding')\n",
    "item0_embedding = openpickle('item0embedding')\n",
    "item1_embedding = openpickle('item1embedding')"
   ]
  },
  {
   "cell_type": "code",
   "execution_count": 6,
   "metadata": {},
   "outputs": [],
   "source": [
    "#Model to predict unknown user vectors\n",
    "knn = KNeighborsRegressor(n_neighbors=78, metric='euclidean')\n",
    "knn.fit(train_covariate[train_covariate.index.isin(train_noisy_embedding.index)].values, train_noisy_embedding.values)\n",
    "\n",
    "picklefile = open('agents/thethreemusketeers_files/user_model', 'wb')\n",
    "pickle.dump(knn, picklefile)"
   ]
  },
  {
   "cell_type": "code",
   "execution_count": 8,
   "metadata": {},
   "outputs": [],
   "source": [
    "#Model to predict demand\n",
    "unknown_user_vectors = knn.predict(train_covariate[~train_covariate.index.isin(train_noisy_embedding.index)].values)\n",
    "predicted_user_vectors = pd.DataFrame(unknown_user_vectors, columns=range(10),\n",
    "                                      index=train_covariate[~train_covariate.index.isin(train_noisy_embedding.index)].index)\n",
    "combined_user_vectors = pd.concat([train_noisy_embedding, predicted_user_vectors])\n",
    "combined_user_vectors.sort_index(inplace=True)\n",
    "item_mat = np.array([item0_embedding, item1_embedding])\n",
    "user_ratings = np.matmul(combined_user_vectors, item_mat.T)\n",
    "user_ratings.rename(columns={0: \"rating_0\", 1: \"rating_1\"}, inplace=True)\n",
    "df_train = train_pricing_decisions.join(train_covariate.reset_index(drop=True))\n",
    "df_train.index = df_train['user_index']\n",
    "df_train.drop(columns=['user_index'], inplace=True)\n",
    "df_train.index.name = None\n",
    "df_train_with_ratings = df_train.join(user_ratings)\n",
    "clf = LogisticRegression().fit(df_train_with_ratings.drop(columns=['item_bought']).values,\n",
    "                               df_train_with_ratings['item_bought'].values)\n",
    "\n",
    "picklefile = open('agents/thethreemusketeers_files/demand_model', 'wb')\n",
    "pickle.dump(clf, picklefile)"
   ]
  },
  {
   "cell_type": "code",
   "execution_count": 9,
   "metadata": {},
   "outputs": [
    {
     "name": "stdout",
     "output_type": "stream",
     "text": [
      "0.9314285714285714\n"
     ]
    }
   ],
   "source": [
    "print(clf.score(df_train_with_ratings.drop(columns=['item_bought']).values,\n",
    "                df_train_with_ratings['item_bought'].values))"
   ]
  },
  {
   "cell_type": "code",
   "execution_count": null,
   "metadata": {},
   "outputs": [],
   "source": []
  }
 ],
 "metadata": {
  "interpreter": {
   "hash": "ae59d0c6802fa4cc74e6f00c8a0e0638f193dc9411aa6b0be950b1611a93dcdb"
  },
  "kernelspec": {
   "display_name": "Python 3 (ipykernel)",
   "language": "python",
   "name": "python3"
  },
  "language_info": {
   "codemirror_mode": {
    "name": "ipython",
    "version": 3
   },
   "file_extension": ".py",
   "mimetype": "text/x-python",
   "name": "python",
   "nbconvert_exporter": "python",
   "pygments_lexer": "ipython3",
   "version": "3.8.12"
  }
 },
 "nbformat": 4,
 "nbformat_minor": 2
}
